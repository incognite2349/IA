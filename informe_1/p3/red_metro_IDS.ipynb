{
  "cells": [
    {
      "cell_type": "markdown",
      "metadata": {
        "id": "fit7pBpFRjKI"
      },
      "source": [
        "**Iterative Deepening Search**"
      ]
    },
    {
      "cell_type": "markdown",
      "metadata": {},
      "source": [
        "**ALGORITMOS DE BUSQUEDA-Iterative Deepening Search - RED METRO **\n",
        "\n",
        "Se reutiliza el código del algoritmo Iterative Deepening Search, pero se cambia el grafo y los costos de las acciones, \n",
        "según la red de metro presentada en el PDF."
      ]
    },
    {
      "cell_type": "code",
      "execution_count": null,
      "metadata": {},
      "outputs": [],
      "source": [
        "import time\n",
        "import heapq #El módulo heapq para implementar colas de prioridad (heaps)"
      ]
    },
    {
      "cell_type": "code",
      "execution_count": 17,
      "metadata": {},
      "outputs": [],
      "source": [
        "class Node: #definición de clase node\n",
        "    def __init__(self, state, parent=None, action=None, path_cost=0):\n",
        "        self.state = state #El estado que define el nodo\n",
        "        self.parent = parent #El nodo padre de donde se origina el nodo actual\n",
        "        self.action = action #Action tomada desde el padre para llegar al nodo\n",
        "        self.path_cost = path_cost #costo desde el nodo raiz (estado inicial), hasta el nodo actual\n",
        "\n",
        "    def __lt__(self, other): #comparar dos objetos de clase node basado en el costo\n",
        "        return self.path_cost < other.path_cost"
      ]
    },
    {
      "cell_type": "code",
      "execution_count": 18,
      "metadata": {},
      "outputs": [],
      "source": [
        "def expand(problem, node):\n",
        "    \"\"\"Expande un nodo y genera sus sucesores.\"\"\"\n",
        "    s = node.state\n",
        "    for action in problem.actions.get(s, []):\n",
        "        s_prime = action  # En este caso, el nombre del lugar destino\n",
        "        cost = node.path_cost + problem.action_costs.get((s, s_prime), problem.action_costs.get((s_prime, s), float('inf')))\n",
        "        yield Node(state=s_prime, parent=node, action=action, path_cost=cost)"
      ]
    },
    {
      "cell_type": "code",
      "execution_count": 19,
      "metadata": {},
      "outputs": [],
      "source": [
        "class Problem: #DEFINICION DEL PROBLEMA\n",
        "    def __init__(self, initial, goal, actions, action_costs, result, is_goal):\n",
        "        self.initial = initial #Estado inicial\n",
        "        self.goal = goal #Estado objetivo\n",
        "        self.actions = actions #acciones disponibles desde un estado (dict)\n",
        "        self.action_costs = action_costs #diccionario de costos de acción\n",
        "        self.result = result  #estado resultante de aplicar una acción\n",
        "        self.is_goal = is_goal #verificación de si el estado es el estado objetivo"
      ]
    },
    {
      "cell_type": "code",
      "execution_count": null,
      "metadata": {},
      "outputs": [],
      "source": [
        "# Implementación de IDS (Iterative Deepening Search) usando las clases y variables ya definidas arriba\n",
        "import time\n",
        "\n",
        "def depth_limited_search(problem, limit):\n",
        "    def recursive_dls(node, problem, limit, visited):\n",
        "        if problem.is_goal(node.state):\n",
        "            return node\n",
        "        elif limit == 0:\n",
        "            return 'cutoff'\n",
        "        else:\n",
        "            cutoff_occurred = False\n",
        "            for action in problem.actions.get(node.state, []):\n",
        "                child_state = action\n",
        "                if child_state not in visited:\n",
        "                    child = Node(child_state, node, action, node.path_cost + problem.action_costs.get((node.state, child_state), 1))\n",
        "                    visited.add(child_state)\n",
        "                    result = recursive_dls(child, problem, limit - 1, visited)\n",
        "                    visited.remove(child_state)\n",
        "                    if result == 'cutoff':\n",
        "                        cutoff_occurred = True\n",
        "                    elif result is not None:\n",
        "                        return result\n",
        "            return 'cutoff' if cutoff_occurred else None\n",
        "    root = Node(problem.initial)\n",
        "    return recursive_dls(root, problem, limit, set([problem.initial]))\n",
        "\n",
        "def iterative_deepening_search(problem, max_depth=50):\n",
        "    for depth in range(max_depth):\n",
        "        result = depth_limited_search(problem, depth)\n",
        "        if result != 'cutoff' and result is not None:\n",
        "            return result\n",
        "    return None\n",
        "\n"
      ]
    },
    {
      "cell_type": "code",
      "execution_count": null,
      "metadata": {},
      "outputs": [
        {
          "name": "stdout",
          "output_type": "stream",
          "text": [
            "Ruta encontrada por IDS: ['A', 'C', 'F', 'J']\n"
          ]
        }
      ],
      "source": [
        "# Implementación de IDS (Iterative Deepening Search)\n",
        "class Node:\n",
        "    def __init__(self, state, parent=None, action=None, path_cost=0):\n",
        "        self.state = state\n",
        "        self.parent = parent\n",
        "        self.action = action\n",
        "        self.path_cost = path_cost\n",
        "\n",
        "def depth_limited_search(problem, limit):\n",
        "    def recursive_dls(node, problem, limit, visited):\n",
        "        if problem.is_goal(node.state):\n",
        "            return node\n",
        "        elif limit == 0:\n",
        "            return 'cutoff'\n",
        "        else:\n",
        "            cutoff_occurred = False\n",
        "            for action in problem.actions.get(node.state, []):\n",
        "                child_state = action\n",
        "                if child_state not in visited:\n",
        "                    child = Node(child_state, node, action, node.path_cost + problem.action_costs.get((node.state, child_state), 1))\n",
        "                    visited.add(child_state)\n",
        "                    result = recursive_dls(child, problem, limit - 1, visited)\n",
        "                    visited.remove(child_state)\n",
        "                    if result == 'cutoff':\n",
        "                        cutoff_occurred = True\n",
        "                    elif result is not None:\n",
        "                        return result\n",
        "            return 'cutoff' if cutoff_occurred else None\n",
        "    root = Node(problem.initial)\n",
        "    return recursive_dls(root, problem, limit, set([problem.initial]))\n",
        "\n",
        "def iterative_deepening_search(problem, max_depth=50):\n",
        "    for depth in range(max_depth):\n",
        "        result = depth_limited_search(problem, depth)\n",
        "        if result != 'cutoff' and result is not None:\n",
        "            return result\n",
        "    return None\n",
        "\n",
        "# Ejemplo de uso con la red de metro\n",
        "def result(state, action):\n",
        "    return action\n",
        "\n",
        "def is_goal(state):\n",
        "    return state == goal\n",
        "\n",
        "stations = ['A', 'B', 'C', 'D', 'E', 'F', 'G', 'H', 'I', 'J']\n",
        "connections = {\n",
        "    'A': ['B', 'C'],\n",
        "    'B': ['A', 'D', 'E'],\n",
        "    'C': ['A', 'F'],\n",
        "    'D': ['B', 'G'],\n",
        "    'E': ['B', 'H', 'I'],\n",
        "    'F': ['C', 'J'],\n",
        "    'G': ['D'],\n",
        "    'H': ['E'],\n",
        "    'I': ['E', 'J'],\n",
        "    'J': ['F', 'I']\n",
        "}\n",
        "action_costs = {}\n",
        "for s in stations:\n",
        "    for neighbor in connections.get(s, []):\n",
        "        action_costs[(s, neighbor)] = 1\n",
        "\n",
        "class Problem:\n",
        "    def __init__(self, initial, goal, actions, action_costs, result, is_goal):\n",
        "        self.initial = initial\n",
        "        self.goal = goal\n",
        "        self.actions = actions\n",
        "        self.action_costs = action_costs\n",
        "        self.result = result\n",
        "        self.is_goal = is_goal\n",
        "\n",
        "# Uso con la red de metro ya definida arriba\n",
        "initial = 'A'  # Cambia según el punto de partida\n",
        "goal = 'J'     # Cambia según el destino\n",
        "problem = Problem(initial, goal, connections, action_costs, result, is_goal)\n",
        "\n",
        "start_time = time.time()\n",
        "solution = iterative_deepening_search(problem)\n",
        "elapsed_time = time.time() - start_time\n",
        "\n",
        "if solution:\n",
        "    path = []\n",
        "    while solution:\n",
        "        path.append(solution.state)\n",
        "        solution = solution.parent\n",
        "    path.reverse()\n",
        "    print(\"Ruta encontrada por IDS:\", path)\n",
        "    print(f\"Tiempo de ejecución: {elapsed_time:.6f} segundos\")\n",
        "else:\n",
        "    print(\"No se encontró solución con IDS\")\n",
        "    print(f\"Tiempo de ejecución: {elapsed_time:.6f} segundos\")"
      ]
    }
  ],
  "metadata": {
    "colab": {
      "provenance": []
    },
    "kernelspec": {
      "display_name": "Python 3",
      "language": "python",
      "name": "python3"
    },
    "language_info": {
      "codemirror_mode": {
        "name": "ipython",
        "version": 3
      },
      "file_extension": ".py",
      "mimetype": "text/x-python",
      "name": "python",
      "nbconvert_exporter": "python",
      "pygments_lexer": "ipython3",
      "version": "3.13.3"
    }
  },
  "nbformat": 4,
  "nbformat_minor": 0
}
