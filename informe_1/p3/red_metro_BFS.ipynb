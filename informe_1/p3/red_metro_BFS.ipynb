{
  "cells": [
    {
      "cell_type": "markdown",
      "metadata": {
        "id": "fit7pBpFRjKI"
      },
      "source": [
        "**ALGORITMOS DE BUSQUEDA-Best-First Search**"
      ]
    },
    {
      "cell_type": "markdown",
      "metadata": {},
      "source": [
        "**ALGORITMOS DE BUSQUEDA-Best-First Search - RED METRO **\n",
        "\n",
        "Se reutiliza el código del algoritmo Best-First Search, pero se cambia el grafo y los costos de las acciones, \n",
        "según la red de metro presentada en el PDF."
      ]
    },
    {
      "cell_type": "code",
      "execution_count": null,
      "metadata": {},
      "outputs": [],
      "source": [
        "import time\n",
        "import heapq #El módulo heapq para implementar colas de prioridad (heaps)"
      ]
    },
    {
      "cell_type": "code",
      "execution_count": 8,
      "metadata": {},
      "outputs": [],
      "source": [
        "class Node: #definición de clase node\n",
        "    def __init__(self, state, parent=None, action=None, path_cost=0):\n",
        "        self.state = state #El estado que define el nodo\n",
        "        self.parent = parent #El nodo padre de donde se origina el nodo actual\n",
        "        self.action = action #Action tomada desde el padre para llegar al nodo\n",
        "        self.path_cost = path_cost #costo desde el nodo raiz (estado inicial), hasta el nodo actual\n",
        "\n",
        "    def __lt__(self, other): #comparar dos objetos de clase node basado en el costo\n",
        "        return self.path_cost < other.path_cost"
      ]
    },
    {
      "cell_type": "code",
      "execution_count": 9,
      "metadata": {},
      "outputs": [],
      "source": [
        "def expand(problem, node):\n",
        "    \"\"\"Expande un nodo y genera sus sucesores.\"\"\"\n",
        "    s = node.state\n",
        "    for action in problem.actions.get(s, []):\n",
        "        s_prime = action  # En este caso, el nombre del lugar destino\n",
        "        cost = node.path_cost + problem.action_costs.get((s, s_prime), problem.action_costs.get((s_prime, s), float('inf')))\n",
        "        yield Node(state=s_prime, parent=node, action=action, path_cost=cost)"
      ]
    },
    {
      "cell_type": "code",
      "execution_count": 10,
      "metadata": {},
      "outputs": [],
      "source": [
        "class Problem: #DEFINICION DEL PROBLEMA\n",
        "    def __init__(self, initial, goal, actions, action_costs, result, is_goal):\n",
        "        self.initial = initial #Estado inicial\n",
        "        self.goal = goal #Estado objetivo\n",
        "        self.actions = actions #acciones disponibles desde un estado (dict)\n",
        "        self.action_costs = action_costs #diccionario de costos de acción\n",
        "        self.result = result  #estado resultante de aplicar una acción\n",
        "        self.is_goal = is_goal #verificación de si el estado es el estado objetivo"
      ]
    },
    {
      "cell_type": "code",
      "execution_count": 11,
      "metadata": {},
      "outputs": [],
      "source": [
        "def best_first_search(problem, f):\n",
        "    node = Node(state=problem.initial) #Crea el nodo raíz con el estado inicial del problema.\n",
        "    frontier = [(f(node), node)]  # frontera como una cola de prioridad (f(n)) con el nodo inicial.\n",
        "    heapq.heapify(frontier) # Convierte la lista frontier en una cola de prioridad (heap)\n",
        "    reached = {problem.initial: node} #registrar los estados alcanzados y su nodo correspondiente.\n",
        "\n",
        "    while frontier:\n",
        "        _, node = heapq.heappop(frontier) #Extrae el nodo con el valor mínimo de f de la frontera.\n",
        "        if problem.is_goal(node.state):   #Si el estado del nodo es el estado objetivo, devuelve el nodo.\n",
        "            return node\n",
        "\n",
        "        for child in expand(problem, node): #Expande el nodo generando sus nodos hijos.\n",
        "            s = child.state\n",
        "            if s not in reached or child.path_cost < reached[s].path_cost: #Si el estado del nodo hijo no ha sido alcanzado antes o si se alcanza con un costo de camino menor, actualiza el dict y añade el nodo hijo a la frontera.\n",
        "                reached[s] = child\n",
        "                heapq.heappush(frontier, (f(child), child)) # Añade el nodo hijo a la frontera\n",
        "\n",
        "    return None  #Se exploran todos los nodos posibles, y no se encuentra una solución solución"
      ]
    },
    {
      "cell_type": "code",
      "execution_count": null,
      "metadata": {},
      "outputs": [
        {
          "name": "stdout",
          "output_type": "stream",
          "text": [
            "Solution path: ['A', 'C', 'F', 'J']\n",
            "Tiempo de ejecución: 0.000361 segundos\n"
          ]
        }
      ],
      "source": [
        "def result(state, action):\n",
        "    return action\n",
        "\n",
        "# Definir las estaciones de la red de metro\n",
        "stations = [\n",
        "    'A', 'B', 'C', 'D', 'E', 'F', 'G', 'H', 'I', 'J'\n",
        "]\n",
        "\n",
        "# Definir las conexiones entre estaciones (grafo no dirigido)\n",
        "# Ejemplo: puedes ajustar las conexiones según el PDF\n",
        "connections = {\n",
        "    'A': ['B', 'C'],\n",
        "    'B': ['A', 'D', 'E'],\n",
        "    'C': ['A', 'F'],\n",
        "    'D': ['B', 'G'],\n",
        "    'E': ['B', 'H', 'I'],\n",
        "    'F': ['C', 'J'],\n",
        "    'G': ['D'],\n",
        "    'H': ['E'],\n",
        "    'I': ['E', 'J'],\n",
        "    'J': ['F', 'I']\n",
        "}\n",
        "\n",
        "# Todos los costos iguales (por ejemplo, 1)\n",
        "action_costs = {}\n",
        "for s in stations:\n",
        "    for neighbor in connections.get(s, []):\n",
        "        action_costs[(s, neighbor)] = 1\n",
        "\n",
        "# Redefinir el problema con la red de metro\n",
        "\n",
        "def result(state, action):\n",
        "    return action\n",
        "\n",
        "def f(node):\n",
        "    return node.path_cost\n",
        "\n",
        "def is_goal(state):\n",
        "    return state == goal\n",
        "\n",
        "initial = 'A'  # Cambia según el punto de partida\n",
        "goal = 'J'     # Cambia según el destino\n",
        "\n",
        "problem = Problem(initial, goal, connections, action_costs, result, is_goal)\n",
        "\n",
        "start_time = time.time()\n",
        "solution = best_first_search(problem, f)\n",
        "elapsed_time = time.time() - start_time\n",
        "\n",
        "if solution:\n",
        "    path = []\n",
        "    while solution:\n",
        "        path.append(solution.state)\n",
        "        solution = solution.parent\n",
        "    path.reverse()\n",
        "    print(\"Solution path:\", path)\n",
        "    print(f\"Tiempo de ejecución: {elapsed_time:.6f} segundos\")\n",
        "else:\n",
        "    print(\"No solution found\")\n",
        "    print(f\"Tiempo de ejecución: {elapsed_time:.6f} segundos\")"
      ]
    }
  ],
  "metadata": {
    "colab": {
      "provenance": []
    },
    "kernelspec": {
      "display_name": "Python 3",
      "language": "python",
      "name": "python3"
    },
    "language_info": {
      "codemirror_mode": {
        "name": "ipython",
        "version": 3
      },
      "file_extension": ".py",
      "mimetype": "text/x-python",
      "name": "python",
      "nbconvert_exporter": "python",
      "pygments_lexer": "ipython3",
      "version": "3.13.3"
    }
  },
  "nbformat": 4,
  "nbformat_minor": 0
}
