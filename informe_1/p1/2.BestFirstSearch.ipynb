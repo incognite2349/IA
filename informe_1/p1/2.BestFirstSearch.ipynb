{
  "cells": [
    {
      "cell_type": "markdown",
      "metadata": {
        "id": "fit7pBpFRjKI"
      },
      "source": [
        "**ALGORITMOS DE BUSQUEDA-Best-First Search**"
      ]
    },
    {
      "cell_type": "code",
      "execution_count": 9,
      "metadata": {
        "id": "TpisO_kwo1q4"
      },
      "outputs": [],
      "source": [
        "import heapq #El módulo heapq para implementar colas de prioridad (heaps)"
      ]
    },
    {
      "cell_type": "code",
      "execution_count": 10,
      "metadata": {
        "id": "IR8K7QnCpfjV"
      },
      "outputs": [],
      "source": [
        "class Node: #definición de clase node\n",
        "    def __init__(self, state, parent=None, action=None, path_cost=0):\n",
        "        self.state = state #El estado que define el nodo\n",
        "        self.parent = parent #El nodo padre de donde se origina el nodo actual\n",
        "        self.action = action #Action tomada desde el padre para llegar al nodo\n",
        "        self.path_cost = path_cost #costo desde el nodo raiz (estado inicial), hasta el nodo actual\n",
        "\n",
        "    def __lt__(self, other): #comparar dos objetos de clase node basado en el costo\n",
        "        return self.path_cost < other.path_cost"
      ]
    },
    {
      "cell_type": "code",
      "execution_count": 11,
      "metadata": {
        "id": "I4n7q2UKLG-l"
      },
      "outputs": [],
      "source": [
        "def expand(problem, node):\n",
        "    \"\"\"Expande un nodo y genera sus sucesores.\"\"\"\n",
        "    s = node.state\n",
        "    for action in problem.actions.get(s, []):\n",
        "        s_prime = action  # En este caso, el nombre del lugar destino\n",
        "        cost = node.path_cost + problem.action_costs.get((s, s_prime), problem.action_costs.get((s_prime, s), float('inf')))\n",
        "        yield Node(state=s_prime, parent=node, action=action, path_cost=cost)"
      ]
    },
    {
      "cell_type": "code",
      "execution_count": 12,
      "metadata": {
        "id": "MW6-XPnPLK0G"
      },
      "outputs": [],
      "source": [
        "class Problem: #DEFINICION DEL PROBLEMA\n",
        "    def __init__(self, initial, goal, actions, action_costs, result, is_goal):\n",
        "        self.initial = initial #Estado inicial\n",
        "        self.goal = goal #Estado objetivo\n",
        "        self.actions = actions #acciones disponibles desde un estado (dict)\n",
        "        self.action_costs = action_costs #diccionario de costos de acción\n",
        "        self.result = result  #estado resultante de aplicar una acción\n",
        "        self.is_goal = is_goal #verificación de si el estado es el estado objetivo"
      ]
    },
    {
      "cell_type": "code",
      "execution_count": 13,
      "metadata": {
        "id": "PlP2QMWC0yra"
      },
      "outputs": [],
      "source": [
        "def best_first_search(problem, f):\n",
        "    node = Node(state=problem.initial) #Crea el nodo raíz con el estado inicial del problema.\n",
        "    frontier = [(f(node), node)]  # frontera como una cola de prioridad (f(n)) con el nodo inicial.\n",
        "    heapq.heapify(frontier) # Convierte la lista frontier en una cola de prioridad (heap)\n",
        "    reached = {problem.initial: node} #registrar los estados alcanzados y su nodo correspondiente.\n",
        "\n",
        "    while frontier:\n",
        "        _, node = heapq.heappop(frontier) #Extrae el nodo con el valor mínimo de f de la frontera.\n",
        "        if problem.is_goal(node.state):   #Si el estado del nodo es el estado objetivo, devuelve el nodo.\n",
        "            return node\n",
        "\n",
        "        for child in expand(problem, node): #Expande el nodo generando sus nodos hijos.\n",
        "            s = child.state\n",
        "            if s not in reached or child.path_cost < reached[s].path_cost: #Si el estado del nodo hijo no ha sido alcanzado antes o si se alcanza con un costo de camino menor, actualiza el dict y añade el nodo hijo a la frontera.\n",
        "                reached[s] = child\n",
        "                heapq.heappush(frontier, (f(child), child)) # Añade el nodo hijo a la frontera\n",
        "\n",
        "    return None  #Se exploran todos los nodos posibles, y no se encuentra una solución solución"
      ]
    },
    {
      "cell_type": "code",
      "execution_count": 14,
      "metadata": {
        "colab": {
          "base_uri": "https://localhost:8080/"
        },
        "id": "3WHOQykgwbKc",
        "outputId": "06ff213f-b44a-4f66-e6b6-c968a9f9e6b3"
      },
      "outputs": [
        {
          "name": "stdout",
          "output_type": "stream",
          "text": [
            "Solution path: ['Arad', 'Sibiu', 'Rimnicu Vilcea', 'Pitesti', 'Bucharest']\n"
          ]
        }
      ],
      "source": [
        "def result(state, action):\n",
        "    return action\n",
        "\n",
        "# Definir el diccionario de costos entre ciudades\n",
        "action_costs = {\n",
        "    ('Arad', 'Zerind'): 75,\n",
        "    ('Zerind', 'Arad'): 75,\n",
        "    ('Arad', 'Sibiu'): 140,\n",
        "    ('Sibiu', 'Arad'): 140,\n",
        "    ('Arad', 'Timisoara'): 118,\n",
        "    ('Timisoara', 'Arad'): 118,\n",
        "    ('Zerind', 'Oradea'): 71,\n",
        "    ('Oradea', 'Zerind'): 71,\n",
        "    ('Oradea', 'Sibiu'): 151,\n",
        "    ('Sibiu', 'Oradea'): 151,\n",
        "    ('Sibiu', 'Fagaras'): 99,\n",
        "    ('Fagaras', 'Sibiu'): 99,\n",
        "    ('Sibiu', 'Rimnicu Vilcea'): 80,\n",
        "    ('Rimnicu Vilcea', 'Sibiu'): 80,\n",
        "    ('Timisoara', 'Lugoj'): 111,\n",
        "    ('Lugoj', 'Timisoara'): 111,\n",
        "    ('Lugoj', 'Mehadia'): 70,\n",
        "    ('Mehadia', 'Lugoj'): 70,\n",
        "    ('Mehadia', 'Drobeta'): 75,\n",
        "    ('Drobeta', 'Mehadia'): 75,\n",
        "    ('Drobeta', 'Craiova'): 120,\n",
        "    ('Craiova', 'Drobeta'): 120,\n",
        "    ('Craiova', 'Rimnicu Vilcea'): 146,\n",
        "    ('Rimnicu Vilcea', 'Craiova'): 146,\n",
        "    ('Craiova', 'Pitesti'): 138,\n",
        "    ('Pitesti', 'Craiova'): 138,\n",
        "    ('Rimnicu Vilcea', 'Pitesti'): 97,\n",
        "    ('Pitesti', 'Rimnicu Vilcea'): 97,\n",
        "    ('Fagaras', 'Bucharest'): 211,\n",
        "    ('Bucharest', 'Fagaras'): 211,\n",
        "    ('Pitesti', 'Bucharest'): 101,\n",
        "    ('Bucharest', 'Pitesti'): 101,\n",
        "    ('Bucharest', 'Giurgiu'): 90,\n",
        "    ('Giurgiu', 'Bucharest'): 90,\n",
        "    ('Bucharest', 'Urziceni'): 85,\n",
        "    ('Urziceni', 'Bucharest'): 85,\n",
        "    ('Urziceni', 'Hirsova'): 98,\n",
        "    ('Hirsova', 'Urziceni'): 98,\n",
        "    ('Hirsova', 'Eforie'): 86,\n",
        "    ('Eforie', 'Hirsova'): 86,\n",
        "    ('Urziceni', 'Vaslui'): 142,\n",
        "    ('Vaslui', 'Urziceni'): 142,\n",
        "    ('Vaslui', 'Iasi'): 92,\n",
        "    ('Iasi', 'Vaslui'): 92,\n",
        "    ('Iasi', 'Neamt'): 87,\n",
        "    ('Neamt', 'Iasi'): 87\n",
        "}\n",
        "\n",
        "def action_cost(state, action, result):\n",
        "    return action_costs.get((state, action), float('inf')) #En el caso de que no se encuentre un costo, el valor sera infinito\n",
        "\n",
        "def is_goal(state):\n",
        "    return state == goal\n",
        "\n",
        "def f(node):\n",
        "    return node.path_cost #costo del camino desde el estado inicial hasta el nodo actual.\n",
        "\n",
        "initial = 'Arad'\n",
        "goal = 'Bucharest'\n",
        "\n",
        "actions = {\n",
        "    'Arad': ['Zerind', 'Sibiu', 'Timisoara'],\n",
        "    'Zerind': ['Arad', 'Oradea'],\n",
        "    'Oradea': ['Zerind', 'Sibiu'],\n",
        "    'Sibiu': ['Oradea', 'Arad', 'Fagaras', 'Rimnicu Vilcea'],\n",
        "    'Timisoara': ['Arad', 'Lugoj'],\n",
        "    'Lugoj': ['Timisoara', 'Mehadia'],\n",
        "    'Mehadia': ['Lugoj', 'Drobeta'],\n",
        "    'Drobeta': ['Mehadia', 'Craiova'],\n",
        "    'Craiova': ['Drobeta', 'Rimnicu Vilcea', 'Pitesti'],\n",
        "    'Rimnicu Vilcea': ['Sibiu', 'Craiova', 'Pitesti'],\n",
        "    'Fagaras': ['Sibiu', 'Bucharest'],\n",
        "    'Pitesti': ['Rimnicu Vilcea', 'Craiova', 'Bucharest'],\n",
        "    'Bucharest': ['Fagaras', 'Pitesti', 'Giurgiu', 'Urziceni'],\n",
        "    'Giurgiu': ['Bucharest'],\n",
        "    'Urziceni': ['Bucharest', 'Hirsova', 'Vaslui'],\n",
        "    'Hirsova': ['Urziceni', 'Eforie'],\n",
        "    'Eforie': ['Hirsova'],\n",
        "    'Vaslui': ['Urziceni', 'Iasi'],\n",
        "    'Iasi': ['Vaslui', 'Neamt'],\n",
        "    'Neamt': ['Iasi']\n",
        "}\n",
        "\n",
        "problem = Problem(initial, goal, actions, action_costs, result, is_goal)\n",
        "solution = best_first_search(problem, f) #Resultado del algoritmo best_first_search aplicado al problema definido.\n",
        "\n",
        "if solution:\n",
        "    path = []\n",
        "    while solution:\n",
        "        path.append(solution.state)\n",
        "        solution = solution.parent\n",
        "    path.reverse()\n",
        "    print(\"Solution path:\", path)\n",
        "else:\n",
        "    print(\"No solution found\")"
      ]
    }
  ],
  "metadata": {
    "colab": {
      "provenance": []
    },
    "kernelspec": {
      "display_name": "Python 3",
      "language": "python",
      "name": "python3"
    },
    "language_info": {
      "codemirror_mode": {
        "name": "ipython",
        "version": 3
      },
      "file_extension": ".py",
      "mimetype": "text/x-python",
      "name": "python",
      "nbconvert_exporter": "python",
      "pygments_lexer": "ipython3",
      "version": "3.13.3"
    }
  },
  "nbformat": 4,
  "nbformat_minor": 0
}
